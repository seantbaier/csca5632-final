{
 "cells": [
  {
   "cell_type": "markdown",
   "metadata": {},
   "source": [
    "# Summary\n",
    "\n",
    "This notebook explores unsupervised learning techniques on the DBPedia dataset. We'll analyze text data using NLP preprocessing, dimensionality reduction with PCA, and visualization techniques to uncover patterns and clusters in the data without using labels.\n"
   ]
  },
  {
   "cell_type": "markdown",
   "metadata": {},
   "source": [
    "# Dependencies"
   ]
  },
  {
   "cell_type": "code",
   "execution_count": 15,
   "metadata": {},
   "outputs": [
    {
     "name": "stderr",
     "output_type": "stream",
     "text": [
      "/Users/seanbaier/Documents/projects/mscs/Courses/machine-learning/machine-learning-2/.venv/lib/python3.11/site-packages/tqdm/auto.py:21: TqdmWarning: IProgress not found. Please update jupyter and ipywidgets. See https://ipywidgets.readthedocs.io/en/stable/user_install.html\n",
      "  from .autonotebook import tqdm as notebook_tqdm\n"
     ]
    }
   ],
   "source": [
    "import pandas as pd\n",
    "import matplotlib.pyplot as plt\n",
    "import seaborn as sns\n",
    "import numpy as np\n",
    "import re\n",
    "from nltk.corpus import stopwords\n",
    "from nltk.tokenize import word_tokenize\n",
    "import spacy\n",
    "from sklearn.decomposition import PCA\n",
    "from sklearn.preprocessing import LabelEncoder\n",
    "from sklearn.metrics import accuracy_score, confusion_matrix\n",
    "from datasets import load_dataset\n"
   ]
  },
  {
   "cell_type": "markdown",
   "metadata": {},
   "source": [
    "# Raw Data"
   ]
  },
  {
   "cell_type": "code",
   "execution_count": 29,
   "metadata": {},
   "outputs": [],
   "source": [
    "dataset = load_dataset('dbpedia_14')\n",
    "# Using a small subset of the data for faster training\n",
    "df_train_small = dataset['train'].shuffle(seed=42).select(range(5000))\n",
    "df_test_small = dataset['test'].shuffle(seed=42).select(range(1000))\n",
    "\n",
    "df_train = pd.DataFrame(df_train_small)\n",
    "df_test = pd.DataFrame(df_test_small)"
   ]
  },
  {
   "cell_type": "code",
   "execution_count": 30,
   "metadata": {},
   "outputs": [],
   "source": [
    "# rename columns\n",
    "df_train = df_train.rename(columns={'content': 'Text', 'label': 'Category'})\n",
    "df_test = df_test.rename(columns={'content': 'Text', 'label': 'Category'})"
   ]
  },
  {
   "cell_type": "code",
   "execution_count": 31,
   "metadata": {},
   "outputs": [
    {
     "name": "stdout",
     "output_type": "stream",
     "text": [
      "   Category                         title  \\\n",
      "0         0               Sparebanken NOR   \n",
      "1         0  American Letter Mail Company   \n",
      "2        11    Corridors of Power (album)   \n",
      "3         8                 Kanni Banmauk   \n",
      "4        12          Zombie Hunter (film)   \n",
      "\n",
      "                                                Text  \n",
      "0   Union Bank of Norway branded as Sparebanken N...  \n",
      "1   The American Letter Mail Company was started ...  \n",
      "2   Corridors of Power is the third solo album by...  \n",
      "3   Kanni is a village in Banmauk Township Katha ...  \n",
      "4   Zombie Hunter is a 2013 American direct-to-vi...  \n",
      "\n",
      " Info: \n",
      "\n",
      "<class 'pandas.core.frame.DataFrame'>\n",
      "RangeIndex: 5000 entries, 0 to 4999\n",
      "Data columns (total 3 columns):\n",
      " #   Column    Non-Null Count  Dtype \n",
      "---  ------    --------------  ----- \n",
      " 0   Category  5000 non-null   int64 \n",
      " 1   title     5000 non-null   object\n",
      " 2   Text      5000 non-null   object\n",
      "dtypes: int64(1), object(2)\n",
      "memory usage: 117.3+ KB\n"
     ]
    }
   ],
   "source": [
    "# Display data info\n",
    "print(df_train.head())\n",
    "print(\"\\n Info: \\n\")\n",
    "df_train.info()"
   ]
  },
  {
   "cell_type": "code",
   "execution_count": 32,
   "metadata": {},
   "outputs": [
    {
     "name": "stdout",
     "output_type": "stream",
     "text": [
      "   Category                                              title  \\\n",
      "0        13                                    The April Witch   \n",
      "1         6                         Blackinton Houses and Park   \n",
      "2         1  Pope John XXIII High School (Everett Massachus...   \n",
      "3         5                Kaiserliche Werft Wilhelmshaven 401   \n",
      "4         9                            Periscepsia handlirschi   \n",
      "\n",
      "                                                Text  \n",
      "0   The April Witch is a fantasy short story by R...  \n",
      "1   Blackinton Houses and Park is a historic site...  \n",
      "2   Pope John XXIII High School is a private Roma...  \n",
      "3   Imperian German Navy seaplanes numbers 401 to...  \n",
      "4   Periscepsia handlirschi is a species of fly i...  \n",
      "\n",
      " Info: \n",
      "\n",
      "<class 'pandas.core.frame.DataFrame'>\n",
      "RangeIndex: 1000 entries, 0 to 999\n",
      "Data columns (total 3 columns):\n",
      " #   Column    Non-Null Count  Dtype \n",
      "---  ------    --------------  ----- \n",
      " 0   Category  1000 non-null   int64 \n",
      " 1   title     1000 non-null   object\n",
      " 2   Text      1000 non-null   object\n",
      "dtypes: int64(1), object(2)\n",
      "memory usage: 23.6+ KB\n"
     ]
    }
   ],
   "source": [
    "print(df_test.head())\n",
    "print(\"\\n Info: \\n\")\n",
    "df_test.info()"
   ]
  },
  {
   "cell_type": "markdown",
   "metadata": {},
   "source": [
    "## Exploratory Data Analisys (EDA)\n",
    "\n",
    "### Data Overview and Cleaning\n",
    "\n",
    "- The data consists of Wikipedia abstracts labeled by ontology class (e.g., Company, Artist, Place, etc.).\n",
    "- First, we load both train and test datasets for inspection.\n",
    "- We check for missing/null values and clean any if needed.\n",
    "- We visualize class balance—if it's imbalanced, we might need to adjust modeling later."
   ]
  },
  {
   "cell_type": "code",
   "execution_count": 33,
   "metadata": {},
   "outputs": [
    {
     "name": "stdout",
     "output_type": "stream",
     "text": [
      "Category    0\n",
      "title       0\n",
      "Text        0\n",
      "dtype: int64\n"
     ]
    },
    {
     "data": {
      "image/png": "[encoded data removed]",
      "text/plain": [
       "<Figure size 640x480 with 1 Axes>"
      ]
     },
     "metadata": {},
     "output_type": "display_data"
    },
    {
     "data": {
      "image/png": "[encoded data removed]",
      "text/plain": [
       "<Figure size 640x480 with 1 Axes>"
      ]
     },
     "metadata": {},
     "output_type": "display_data"
    }
   ],
   "source": [
    "df = pd.concat([df_train, df_test], ignore_index=True)\n",
    "\n",
    "# Check for missing values\n",
    "print(df.isnull().sum())\n",
    "\n",
    "# Visualize class distribution\n",
    "sns.countplot(x='Category', data=df)\n",
    "plt.title(\"DBPedia Category Distribution\")\n",
    "plt.show()\n",
    "\n",
    "# Article length in words\n",
    "df['word_count'] = df['Text'].apply(lambda x: len(str(x).split()))\n",
    "sns.histplot(df['word_count'], bins=30)\n",
    "plt.title('Distribution of Abstract Lengths (Words)')\n",
    "plt.show()"
   ]
  },
  {
   "cell_type": "markdown",
   "metadata": {},
   "source": [
    "### Data Cleaning\n",
    "\n",
    "- Lowercasing text\n",
    "- Removing punctuation and numbers\n",
    "- Removing stopwords (common words with little meaning, e.g., \"the\", \"and\")\n",
    "- Lemmatizing"
   ]
  },
  {
   "cell_type": "code",
   "execution_count": 34,
   "metadata": {},
   "outputs": [
    {
     "name": "stdout",
     "output_type": "stream",
     "text": [
      "0    union bank norway brand sparebanken norway lar...\n",
      "1    american letter mail company start lysander sp...\n",
      "2    corridor power third solo album irish guitaris...\n",
      "3    kanni village banmauk township katha district ...\n",
      "4    zombie hunter american directtovideo actionthr...\n",
      "Name: Text, dtype: object\n"
     ]
    }
   ],
   "source": [
    "stop_words = set(stopwords.words('english'))\n",
    "nlp = spacy.load(\"en_core_web_md\")\n",
    "\n",
    "def clean_text(text):\n",
    "    text = text.lower()\n",
    "    text = re.sub(r'[^a-z\\s]', '', text)\n",
    "    words_ = word_tokenize(text)\n",
    "\n",
    "    doc = nlp(' '.join(words_))\n",
    "    lemmas = [x.lemma_ for x in doc]\n",
    "    lemmas = [l for l in lemmas if l not in stop_words and l.isalpha()]\n",
    "\n",
    "    cleaned_text = ' '.join(lemmas)\n",
    "    return cleaned_text\n",
    "\n",
    "clean_train_data = df_train['Text'].apply(clean_text)\n",
    "clean_test_data = df_test['Text'].apply(clean_text)\n",
    "\n",
    "print(clean_train_data.head())\n"
   ]
  },
  {
   "cell_type": "code",
   "execution_count": 35,
   "metadata": {},
   "outputs": [
    {
     "name": "stderr",
     "output_type": "stream",
     "text": [
      "/var/folders/l2/jl8p3_b97qd5g54qcjcv_q7c0000gn/T/ipykernel_7158/1088945506.py:8: FutureWarning: \n",
      "\n",
      "Passing `palette` without assigning `hue` is deprecated and will be removed in v0.14.0. Assign the `y` variable to `hue` and set `legend=False` for the same effect.\n",
      "\n",
      "  sns.barplot(x=list(counts), y=list(words), palette='mako')\n"
     ]
    },
    {
     "data": {
      "image/png": "[encoded data removed]",
      "text/plain": [
       "<Figure size 700x400 with 1 Axes>"
      ]
     },
     "metadata": {},
     "output_type": "display_data"
    }
   ],
   "source": [
    "from collections import Counter\n",
    "\n",
    "all_words = ' '.join(clean_train_data).split()\n",
    "common_words = Counter(all_words).most_common(20)\n",
    "words, counts = zip(*common_words)\n",
    "\n",
    "plt.figure(figsize=(7,4))\n",
    "sns.barplot(x=list(counts), y=list(words), palette='mako')\n",
    "plt.title('Top 20 Most Frequent Words')\n",
    "plt.xlabel('Frequency')\n",
    "plt.ylabel('Word')\n",
    "plt.tight_layout()\n",
    "plt.show()"
   ]
  },
  {
   "cell_type": "markdown",
   "metadata": {},
   "source": [
    "## PCA Unsupervised Matrix Factorization"
   ]
  },
  {
   "cell_type": "code",
   "execution_count": 36,
   "metadata": {},
   "outputs": [],
   "source": [
    "nlp = spacy.load(\"en_core_web_md\")\n",
    "\n",
    "def spacy_doc_vector(text):\n",
    "    doc = nlp(text)\n",
    "    vectors = [token.vector for token in doc if token.has_vector]\n",
    "    if not vectors:\n",
    "        return np.zeros(nlp.vocab.vectors_length)\n",
    "    return np.mean(vectors, axis=0)\n",
    "\n",
    "df_train['spacy_vector'] = clean_train_data.apply(spacy_doc_vector)\n",
    "df_test['spacy_vector'] = clean_test_data.apply(spacy_doc_vector)"
   ]
  },
  {
   "cell_type": "code",
   "execution_count": 37,
   "metadata": {},
   "outputs": [],
   "source": [
    "X_train = np.vstack(df_train['spacy_vector'].values)\n",
    "X_test = np.vstack(df_test['spacy_vector'].values)"
   ]
  },
  {
   "cell_type": "markdown",
   "metadata": {},
   "source": [
    "### Matrix Factorization Model: PCA\n",
    "\n",
    "PCA is used to reduce dimensionality of the spaCy word vectors and identify principal components as topics. Each abstract is assigned to its highest-scoring component, which is then mapped to a real category."
   ]
  },
  {
   "cell_type": "code",
   "execution_count": 40,
   "metadata": {},
   "outputs": [],
   "source": [
    "num_components = 14  # DBPedia has 14 ontology classes\n",
    "pca = PCA(n_components=num_components, random_state=42)\n",
    "W_train = pca.fit_transform(X_train)\n",
    "W_test = pca.transform(X_test)"
   ]
  },
  {
   "cell_type": "code",
   "execution_count": 41,
   "metadata": {},
   "outputs": [],
   "source": [
    "# Assign component topic with the largest value\n",
    "y_train_pred = np.argmax(W_train, axis=1)\n",
    "y_test_pred = np.argmax(W_test, axis=1)\n",
    "\n",
    "# Map components to true labels\n",
    "le = LabelEncoder()\n",
    "y_train_true = le.fit_transform(df_train['Category']) # only on training data"
   ]
  },
  {
   "cell_type": "code",
   "execution_count": 42,
   "metadata": {},
   "outputs": [],
   "source": [
    "# Find the most common true label in each component/topic\n",
    "component_label_map = {}\n",
    "for component in range(num_components):\n",
    "    idx = np.where(y_train_pred == component)[0]\n",
    "    if len(idx) == 0:\n",
    "        component_label_map[component] = -1\n",
    "        continue\n",
    "    most_common = np.bincount(y_train_true[idx]).argmax()\n",
    "    component_label_map[component] = most_common\n",
    "\n",
    "# Map predictions to true labels\n",
    "y_train_pred_mapped = [component_label_map[c] for c in y_train_pred]\n",
    "y_test_pred_mapped = [component_label_map[c] for c in y_test_pred]"
   ]
  },
  {
   "cell_type": "code",
   "execution_count": 43,
   "metadata": {},
   "outputs": [
    {
     "name": "stdout",
     "output_type": "stream",
     "text": [
      "PCA (Unsupervised) Train Accuracy: 0.335\n",
      "Confusion Matrix (Train):\n",
      "[[228   0   0  13   9  10   5   0  40   0   6  22  10   8]\n",
      " [165   0   0  70  29   0   5   0  76   0   1   7  16  24]\n",
      " [ 49   0   0  83  26  12  21   0   0   0   4  31  95  16]\n",
      " [ 19   0   0 245  29   6   0   0   1   0   0   3  51   4]\n",
      " [ 21   0   0  68  49   2  16   0  65   0   0   1  44  62]\n",
      " [159   0   0  45  30  30   4   0  42   0  26  15  33  14]\n",
      " [153   0   0  54  17   7  24   0  76   0   6  14  14   0]\n",
      " [ 22   0   0  42  27  22   6   0 189   0  22   4  27   0]\n",
      " [  1   0   0   1   8   0   7   0 330   0   1   3  13   0]\n",
      " [  4   0   0   5  16   7   0   0   2   0 275  11  20  13]\n",
      " [  6   0   0   9   9   9   9   0   6   0 304   7  11   0]\n",
      " [138   0   0   6   0   1   7   0   0   0   4 174  38   0]\n",
      " [ 29   0   0  35  15   3   9   0   0   0   0  12 226   5]\n",
      " [117   0   0  17   5   1  12   0   4   0   6  13  81  64]]\n"
     ]
    }
   ],
   "source": [
    "# Evaluate\n",
    "train_acc = accuracy_score(y_train_true, y_train_pred_mapped) # training data only\n",
    "print(f\"PCA (Unsupervised) Train Accuracy: {train_acc:.3f}\")\n",
    "\n",
    "cm = confusion_matrix(y_train_true, y_train_pred_mapped)\n",
    "print(\"Confusion Matrix (Train):\")\n",
    "print(cm)"
   ]
  },
  {
   "cell_type": "code",
   "execution_count": 46,
   "metadata": {},
   "outputs": [],
   "source": [
    "# Assign pseudo-labels for the test set\n",
    "y_test_pred_mapped = [component_label_map[c] for c in y_test_pred]\n",
    "\n",
    "# Decode integer predictions to category labels for test set output\n",
    "category_names = le.inverse_transform(list(range(num_components)))\n",
    "predicted_labels_test = [category_names[c] if c >= 0 and c < len(category_names) else \"unknown\" for c in y_test_pred_mapped]\n",
    "\n",
    "# Save test set predictions to CSV (for submission/review)\n",
    "df_test['Predicted_Category'] = predicted_labels_test\n",
    "df_test[['Text', 'Predicted_Category']].to_csv('dbpedia_test_set_predictions.csv', index=False)"
   ]
  },
  {
   "cell_type": "markdown",
   "metadata": {},
   "source": [
    "## Supervised Learning Comparison"
   ]
  },
  {
   "cell_type": "code",
   "execution_count": 45,
   "metadata": {},
   "outputs": [
    {
     "name": "stdout",
     "output_type": "stream",
     "text": [
      "PCA (Unsupervised) Accuracy: 0.75675\n",
      "LogReg Accuracy: 0.845\n",
      "NB Accuracy: 0.715\n",
      "RF Accuracy: 0.75675\n"
     ]
    }
   ],
   "source": [
    "from sklearn.linear_model import LogisticRegression\n",
    "from sklearn.naive_bayes import GaussianNB\n",
    "from sklearn.ensemble import RandomForestClassifier\n",
    "from sklearn.model_selection import train_test_split\n",
    "\n",
    "# Use only training data\n",
    "X = X_train\n",
    "y = y_train_true\n",
    "\n",
    "X_train_split, X_val, y_train_split, y_val = train_test_split(X, y, train_size=0.2, random_state=42)\n",
    "\n",
    "# Logistic Regression\n",
    "lr = LogisticRegression(max_iter=1000)\n",
    "lr.fit(X_train_split, y_train_split)\n",
    "\n",
    "y_pred_lr = lr.predict(X_val)\n",
    "y_test_pred_lr = lr.predict(X_test)\n",
    "\n",
    "# Gaussian Naive Bayes\n",
    "nb = GaussianNB()\n",
    "nb.fit(X_train_split, y_train_split)\n",
    "\n",
    "y_pred_nb = nb.predict(X_val)\n",
    "y_test_pred_nb = nb.predict(X_test)\n",
    "\n",
    "# Random Forest\n",
    "rf = RandomForestClassifier(n_estimators=100, random_state=42)\n",
    "rf.fit(X_train_split, y_train_split)\n",
    "\n",
    "y_pred_rf = rf.predict(X_val)\n",
    "y_test_pred_rf = rf.predict(X_test)\n",
    "\n",
    "print(\"PCA (Unsupervised) Accuracy:\", accuracy_score(y_val, y_pred_rf))\n",
    "print(\"LogReg Accuracy:\", accuracy_score(y_val, y_pred_lr))\n",
    "print(\"NB Accuracy:\", accuracy_score(y_val, y_pred_nb))\n",
    "print(\"RF Accuracy:\", accuracy_score(y_val, y_pred_rf))"
   ]
  },
  {
   "cell_type": "markdown",
   "metadata": {},
   "source": [
    "## Conclusion\n",
    "\n",
    "- The unsupervised PCA and the Random Forest were pretty simialar in accuracy. However the Linear Regression supervised model was more effective for text classification with 0.845 accuracy.\n",
    "\n",
    "- Future improvements could include experimenting with more advanced embeddings (e.g., BERT), hyperparameter tuning, and deeper analysis of misclassified examples.\n"
   ]
  },
  {
   "cell_type": "markdown",
   "metadata": {},
   "source": [
    "## References:\n",
    "\n",
    "- [scikit-learn documentation](https://scikit-learn.org/stable/documentation.html)\n",
    "- [NumPy documentation](https://numpy.org/doc/stable/)\n",
    "- [Pandas documentation](https://pandas.pydata.org/docs/)\n",
    "- [Matplotlib documentation](https://matplotlib.org/stable/contents.html)\n",
    "- [Seaborn documentation](https://seaborn.pydata.org/documentation.html)\n",
    "- [spaCy documentation](https://spacy.io/usage)\n",
    "- [HuggingFace Datasets](https://huggingface.co/datasets/dbpedia_14)"
   ]
  }
 ],
 "metadata": {
  "kernelspec": {
   "display_name": ".venv (3.11.7)",
   "language": "python",
   "name": "python3"
  },
  "language_info": {
   "codemirror_mode": {
    "name": "ipython",
    "version": 3
   },
   "file_extension": ".py",
   "mimetype": "text/x-python",
   "name": "python",
   "nbconvert_exporter": "python",
   "pygments_lexer": "ipython3",
   "version": "3.11.7"
  }
 },
 "nbformat": 4,
 "nbformat_minor": 2
}
